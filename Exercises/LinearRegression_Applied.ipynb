{
 "cells": [
  {
   "cell_type": "markdown",
   "metadata": {},
   "source": [
    "(Carseats Dataset)\n",
    "\n",
    "(a) Fit a multiple regression model to predict Sales using Price,\n",
    "Urban, and US.\n",
    "(b) Provide an interpretation of each coefcient in the model. Be\n",
    "careful—some of the variables in the model are qualitative!\n",
    "(c) Write out the model in equation form, being careful to handle\n",
    "the qualitative variables properly.\n",
    "(d) For which of the predictors can you reject the null hypothesis\n",
    "H0 : βj = 0?\n",
    "(e) On the basis of your response to the previous question, ft a\n",
    "smaller model that only uses the predictors for which there is\n",
    "evidence of association with the outcome.\n",
    "(f) How well do the models in (a) and (e) ft the data?\n",
    "(g) Using the model from (e), obtain 95 % confdence intervals for\n",
    "the coefcient(s).\n",
    "(h) Is there evidence of outliers or high leverage observations in the\n",
    "model from (e)?"
   ]
  },
  {
   "cell_type": "code",
   "execution_count": 1,
   "metadata": {},
   "outputs": [
    {
     "data": {
      "text/plain": [
       "Index(['Sales', 'CompPrice', 'Income', 'Advertising', 'Population', 'Price',\n",
       "       'ShelveLoc', 'Age', 'Education', 'Urban', 'US'],\n",
       "      dtype='object')"
      ]
     },
     "execution_count": 1,
     "metadata": {},
     "output_type": "execute_result"
    }
   ],
   "source": [
    "# A\n",
    "\n",
    "from ISLP import load_data\n",
    "Carseats = load_data('Carseats')\n",
    "Carseats.columns"
   ]
  },
  {
   "cell_type": "code",
   "execution_count": null,
   "metadata": {},
   "outputs": [],
   "source": []
  },
  {
   "cell_type": "code",
   "execution_count": null,
   "metadata": {},
   "outputs": [],
   "source": []
  }
 ],
 "metadata": {
  "kernelspec": {
   "display_name": "islp",
   "language": "python",
   "name": "python3"
  },
  "language_info": {
   "codemirror_mode": {
    "name": "ipython",
    "version": 3
   },
   "file_extension": ".py",
   "mimetype": "text/x-python",
   "name": "python",
   "nbconvert_exporter": "python",
   "pygments_lexer": "ipython3",
   "version": "3.13.2"
  }
 },
 "nbformat": 4,
 "nbformat_minor": 2
}
